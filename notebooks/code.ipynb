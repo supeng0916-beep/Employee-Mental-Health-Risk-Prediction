{
 "cells": [
  {
   "cell_type": "code",
   "execution_count": 1,
   "id": "50adae7e-3d8a-455d-b0a8-5cfa5caea05d",
   "metadata": {},
   "outputs": [],
   "source": [
    "import pandas as pd\n",
    "import numpy as np\n",
    "import matplotlib.pyplot as plt"
   ]
  },
  {
   "cell_type": "code",
   "execution_count": 2,
   "id": "03f5b824-f31e-49fb-97e1-29f583f3cce9",
   "metadata": {},
   "outputs": [],
   "source": [
    "df = pd.read_csv('Mental Health in Tech Survey.csv')"
   ]
  },
  {
   "cell_type": "code",
   "execution_count": 3,
   "id": "7d814fca-fbd8-4088-82ce-09c5b86d0d75",
   "metadata": {},
   "outputs": [
    {
     "name": "stdout",
     "output_type": "stream",
     "text": [
      "<class 'pandas.core.frame.DataFrame'>\n",
      "RangeIndex: 1259 entries, 0 to 1258\n",
      "Data columns (total 27 columns):\n",
      " #   Column                     Non-Null Count  Dtype \n",
      "---  ------                     --------------  ----- \n",
      " 0   Timestamp                  1259 non-null   object\n",
      " 1   Age                        1259 non-null   int64 \n",
      " 2   Gender                     1259 non-null   object\n",
      " 3   Country                    1259 non-null   object\n",
      " 4   state                      744 non-null    object\n",
      " 5   self_employed              1241 non-null   object\n",
      " 6   family_history             1259 non-null   object\n",
      " 7   treatment                  1259 non-null   object\n",
      " 8   work_interfere             995 non-null    object\n",
      " 9   no_employees               1259 non-null   object\n",
      " 10  remote_work                1259 non-null   object\n",
      " 11  tech_company               1259 non-null   object\n",
      " 12  benefits                   1259 non-null   object\n",
      " 13  care_options               1259 non-null   object\n",
      " 14  wellness_program           1259 non-null   object\n",
      " 15  seek_help                  1259 non-null   object\n",
      " 16  anonymity                  1259 non-null   object\n",
      " 17  leave                      1259 non-null   object\n",
      " 18  mental_health_consequence  1259 non-null   object\n",
      " 19  phys_health_consequence    1259 non-null   object\n",
      " 20  coworkers                  1259 non-null   object\n",
      " 21  supervisor                 1259 non-null   object\n",
      " 22  mental_health_interview    1259 non-null   object\n",
      " 23  phys_health_interview      1259 non-null   object\n",
      " 24  mental_vs_physical         1259 non-null   object\n",
      " 25  obs_consequence            1259 non-null   object\n",
      " 26  comments                   164 non-null    object\n",
      "dtypes: int64(1), object(26)\n",
      "memory usage: 265.7+ KB\n"
     ]
    }
   ],
   "source": [
    "df.info()"
   ]
  },
  {
   "cell_type": "code",
   "execution_count": 4,
   "id": "a52732c7-bade-4f35-8c33-bda830cb118d",
   "metadata": {
    "scrolled": true
   },
   "outputs": [
    {
     "data": {
      "text/html": [
       "<div>\n",
       "<style scoped>\n",
       "    .dataframe tbody tr th:only-of-type {\n",
       "        vertical-align: middle;\n",
       "    }\n",
       "\n",
       "    .dataframe tbody tr th {\n",
       "        vertical-align: top;\n",
       "    }\n",
       "\n",
       "    .dataframe thead th {\n",
       "        text-align: right;\n",
       "    }\n",
       "</style>\n",
       "<table border=\"1\" class=\"dataframe\">\n",
       "  <thead>\n",
       "    <tr style=\"text-align: right;\">\n",
       "      <th></th>\n",
       "      <th>Timestamp</th>\n",
       "      <th>Age</th>\n",
       "      <th>Gender</th>\n",
       "      <th>Country</th>\n",
       "      <th>state</th>\n",
       "      <th>self_employed</th>\n",
       "      <th>family_history</th>\n",
       "      <th>treatment</th>\n",
       "      <th>work_interfere</th>\n",
       "      <th>no_employees</th>\n",
       "      <th>...</th>\n",
       "      <th>leave</th>\n",
       "      <th>mental_health_consequence</th>\n",
       "      <th>phys_health_consequence</th>\n",
       "      <th>coworkers</th>\n",
       "      <th>supervisor</th>\n",
       "      <th>mental_health_interview</th>\n",
       "      <th>phys_health_interview</th>\n",
       "      <th>mental_vs_physical</th>\n",
       "      <th>obs_consequence</th>\n",
       "      <th>comments</th>\n",
       "    </tr>\n",
       "  </thead>\n",
       "  <tbody>\n",
       "    <tr>\n",
       "      <th>0</th>\n",
       "      <td>2014-08-27 11:29:31</td>\n",
       "      <td>37</td>\n",
       "      <td>Female</td>\n",
       "      <td>United States</td>\n",
       "      <td>IL</td>\n",
       "      <td>NaN</td>\n",
       "      <td>No</td>\n",
       "      <td>Yes</td>\n",
       "      <td>Often</td>\n",
       "      <td>6-25</td>\n",
       "      <td>...</td>\n",
       "      <td>Somewhat easy</td>\n",
       "      <td>No</td>\n",
       "      <td>No</td>\n",
       "      <td>Some of them</td>\n",
       "      <td>Yes</td>\n",
       "      <td>No</td>\n",
       "      <td>Maybe</td>\n",
       "      <td>Yes</td>\n",
       "      <td>No</td>\n",
       "      <td>NaN</td>\n",
       "    </tr>\n",
       "    <tr>\n",
       "      <th>1</th>\n",
       "      <td>2014-08-27 11:29:37</td>\n",
       "      <td>44</td>\n",
       "      <td>M</td>\n",
       "      <td>United States</td>\n",
       "      <td>IN</td>\n",
       "      <td>NaN</td>\n",
       "      <td>No</td>\n",
       "      <td>No</td>\n",
       "      <td>Rarely</td>\n",
       "      <td>More than 1000</td>\n",
       "      <td>...</td>\n",
       "      <td>Don't know</td>\n",
       "      <td>Maybe</td>\n",
       "      <td>No</td>\n",
       "      <td>No</td>\n",
       "      <td>No</td>\n",
       "      <td>No</td>\n",
       "      <td>No</td>\n",
       "      <td>Don't know</td>\n",
       "      <td>No</td>\n",
       "      <td>NaN</td>\n",
       "    </tr>\n",
       "    <tr>\n",
       "      <th>2</th>\n",
       "      <td>2014-08-27 11:29:44</td>\n",
       "      <td>32</td>\n",
       "      <td>Male</td>\n",
       "      <td>Canada</td>\n",
       "      <td>NaN</td>\n",
       "      <td>NaN</td>\n",
       "      <td>No</td>\n",
       "      <td>No</td>\n",
       "      <td>Rarely</td>\n",
       "      <td>6-25</td>\n",
       "      <td>...</td>\n",
       "      <td>Somewhat difficult</td>\n",
       "      <td>No</td>\n",
       "      <td>No</td>\n",
       "      <td>Yes</td>\n",
       "      <td>Yes</td>\n",
       "      <td>Yes</td>\n",
       "      <td>Yes</td>\n",
       "      <td>No</td>\n",
       "      <td>No</td>\n",
       "      <td>NaN</td>\n",
       "    </tr>\n",
       "    <tr>\n",
       "      <th>3</th>\n",
       "      <td>2014-08-27 11:29:46</td>\n",
       "      <td>31</td>\n",
       "      <td>Male</td>\n",
       "      <td>United Kingdom</td>\n",
       "      <td>NaN</td>\n",
       "      <td>NaN</td>\n",
       "      <td>Yes</td>\n",
       "      <td>Yes</td>\n",
       "      <td>Often</td>\n",
       "      <td>26-100</td>\n",
       "      <td>...</td>\n",
       "      <td>Somewhat difficult</td>\n",
       "      <td>Yes</td>\n",
       "      <td>Yes</td>\n",
       "      <td>Some of them</td>\n",
       "      <td>No</td>\n",
       "      <td>Maybe</td>\n",
       "      <td>Maybe</td>\n",
       "      <td>No</td>\n",
       "      <td>Yes</td>\n",
       "      <td>NaN</td>\n",
       "    </tr>\n",
       "    <tr>\n",
       "      <th>4</th>\n",
       "      <td>2014-08-27 11:30:22</td>\n",
       "      <td>31</td>\n",
       "      <td>Male</td>\n",
       "      <td>United States</td>\n",
       "      <td>TX</td>\n",
       "      <td>NaN</td>\n",
       "      <td>No</td>\n",
       "      <td>No</td>\n",
       "      <td>Never</td>\n",
       "      <td>100-500</td>\n",
       "      <td>...</td>\n",
       "      <td>Don't know</td>\n",
       "      <td>No</td>\n",
       "      <td>No</td>\n",
       "      <td>Some of them</td>\n",
       "      <td>Yes</td>\n",
       "      <td>Yes</td>\n",
       "      <td>Yes</td>\n",
       "      <td>Don't know</td>\n",
       "      <td>No</td>\n",
       "      <td>NaN</td>\n",
       "    </tr>\n",
       "  </tbody>\n",
       "</table>\n",
       "<p>5 rows × 27 columns</p>\n",
       "</div>"
      ],
      "text/plain": [
       "             Timestamp  Age  Gender         Country state self_employed  \\\n",
       "0  2014-08-27 11:29:31   37  Female   United States    IL           NaN   \n",
       "1  2014-08-27 11:29:37   44       M   United States    IN           NaN   \n",
       "2  2014-08-27 11:29:44   32    Male          Canada   NaN           NaN   \n",
       "3  2014-08-27 11:29:46   31    Male  United Kingdom   NaN           NaN   \n",
       "4  2014-08-27 11:30:22   31    Male   United States    TX           NaN   \n",
       "\n",
       "  family_history treatment work_interfere    no_employees  ...  \\\n",
       "0             No       Yes          Often            6-25  ...   \n",
       "1             No        No         Rarely  More than 1000  ...   \n",
       "2             No        No         Rarely            6-25  ...   \n",
       "3            Yes       Yes          Often          26-100  ...   \n",
       "4             No        No          Never         100-500  ...   \n",
       "\n",
       "                leave mental_health_consequence phys_health_consequence  \\\n",
       "0       Somewhat easy                        No                      No   \n",
       "1          Don't know                     Maybe                      No   \n",
       "2  Somewhat difficult                        No                      No   \n",
       "3  Somewhat difficult                       Yes                     Yes   \n",
       "4          Don't know                        No                      No   \n",
       "\n",
       "      coworkers supervisor mental_health_interview phys_health_interview  \\\n",
       "0  Some of them        Yes                      No                 Maybe   \n",
       "1            No         No                      No                    No   \n",
       "2           Yes        Yes                     Yes                   Yes   \n",
       "3  Some of them         No                   Maybe                 Maybe   \n",
       "4  Some of them        Yes                     Yes                   Yes   \n",
       "\n",
       "  mental_vs_physical obs_consequence comments  \n",
       "0                Yes              No      NaN  \n",
       "1         Don't know              No      NaN  \n",
       "2                 No              No      NaN  \n",
       "3                 No             Yes      NaN  \n",
       "4         Don't know              No      NaN  \n",
       "\n",
       "[5 rows x 27 columns]"
      ]
     },
     "execution_count": 4,
     "metadata": {},
     "output_type": "execute_result"
    }
   ],
   "source": [
    "df.head()"
   ]
  },
  {
   "cell_type": "code",
   "execution_count": 5,
   "id": "0aada9d7-5725-44c0-8f53-b47a2da01eed",
   "metadata": {},
   "outputs": [
    {
     "data": {
      "text/plain": [
       "Timestamp                       0\n",
       "Age                             0\n",
       "Gender                          0\n",
       "Country                         0\n",
       "state                         515\n",
       "self_employed                  18\n",
       "family_history                  0\n",
       "treatment                       0\n",
       "work_interfere                264\n",
       "no_employees                    0\n",
       "remote_work                     0\n",
       "tech_company                    0\n",
       "benefits                        0\n",
       "care_options                    0\n",
       "wellness_program                0\n",
       "seek_help                       0\n",
       "anonymity                       0\n",
       "leave                           0\n",
       "mental_health_consequence       0\n",
       "phys_health_consequence         0\n",
       "coworkers                       0\n",
       "supervisor                      0\n",
       "mental_health_interview         0\n",
       "phys_health_interview           0\n",
       "mental_vs_physical              0\n",
       "obs_consequence                 0\n",
       "comments                     1095\n",
       "dtype: int64"
      ]
     },
     "execution_count": 5,
     "metadata": {},
     "output_type": "execute_result"
    }
   ],
   "source": [
    "df.isnull().sum()"
   ]
  },
  {
   "cell_type": "code",
   "execution_count": 6,
   "id": "8b033f46-caa8-48d8-8695-fc157c06a5e9",
   "metadata": {},
   "outputs": [],
   "source": [
    "df.drop('state', axis=1, inplace=True)"
   ]
  },
  {
   "cell_type": "code",
   "execution_count": 7,
   "id": "e4594980-f3de-4724-9b04-1009d4c30ae0",
   "metadata": {},
   "outputs": [],
   "source": [
    "df.drop('comments', axis=1, inplace=True)"
   ]
  },
  {
   "cell_type": "code",
   "execution_count": 8,
   "id": "a378c224-3209-4198-8a9c-2ddcd8c818d4",
   "metadata": {},
   "outputs": [],
   "source": [
    "self_employed_mode = df['self_employed'].mode()[0]\n",
    "df['self_employed'] = df['self_employed'].fillna(self_employed_mode) "
   ]
  },
  {
   "cell_type": "code",
   "execution_count": 9,
   "id": "5ab6ef1e-93bf-4ffc-befd-36704c8287d5",
   "metadata": {},
   "outputs": [],
   "source": [
    "work_interfere_mode = df['work_interfere'].mode()[0]\n",
    "df['work_interfere'] = df['work_interfere'].fillna(work_interfere_mode)"
   ]
  },
  {
   "cell_type": "code",
   "execution_count": 10,
   "id": "eb1016fc-931f-447f-8771-be617199e2ac",
   "metadata": {},
   "outputs": [
    {
     "data": {
      "text/plain": [
       "Timestamp                    0\n",
       "Age                          0\n",
       "Gender                       0\n",
       "Country                      0\n",
       "self_employed                0\n",
       "family_history               0\n",
       "treatment                    0\n",
       "work_interfere               0\n",
       "no_employees                 0\n",
       "remote_work                  0\n",
       "tech_company                 0\n",
       "benefits                     0\n",
       "care_options                 0\n",
       "wellness_program             0\n",
       "seek_help                    0\n",
       "anonymity                    0\n",
       "leave                        0\n",
       "mental_health_consequence    0\n",
       "phys_health_consequence      0\n",
       "coworkers                    0\n",
       "supervisor                   0\n",
       "mental_health_interview      0\n",
       "phys_health_interview        0\n",
       "mental_vs_physical           0\n",
       "obs_consequence              0\n",
       "dtype: int64"
      ]
     },
     "execution_count": 10,
     "metadata": {},
     "output_type": "execute_result"
    }
   ],
   "source": [
    "df.isnull().sum()"
   ]
  },
  {
   "cell_type": "code",
   "execution_count": 11,
   "id": "c5df7548-1783-4847-a1dd-a5d48bffe0b4",
   "metadata": {},
   "outputs": [],
   "source": [
    "male_list = ['Male', 'male', 'M', 'm', 'Male-ish', 'maile', 'Cis Male', 'Mal', 'Male (CIS)', 'Make']\n",
    "female_list = ['Female', 'female', 'F', 'f', 'Woman', 'femail', 'Cis Female', 'Femake', 'woman']\n",
    "\n",
    "def clean_gender(gender_str):\n",
    "    if gender_str in male_list:\n",
    "        return 'Male'\n",
    "    elif gender_str in female_list:\n",
    "        return 'Female'\n",
    "    else:\n",
    "        return 'Other'\n",
    "df['Gender'] = df['Gender'].apply(clean_gender)"
   ]
  },
  {
   "cell_type": "code",
   "execution_count": 12,
   "id": "77989e08-f754-49db-966f-29f4250e1bb6",
   "metadata": {},
   "outputs": [],
   "source": [
    "df.drop('Timestamp', axis=1, inplace=True)"
   ]
  },
  {
   "cell_type": "code",
   "execution_count": 13,
   "id": "a6ce0014-706c-4f82-a797-8b4d51539d32",
   "metadata": {},
   "outputs": [],
   "source": [
    "df = df[(df['Age'] >= 18) & (df['Age'] <= 100)]"
   ]
  },
  {
   "cell_type": "code",
   "execution_count": 14,
   "id": "a3933599-d9f9-476c-8f9c-1022dd8ee8f2",
   "metadata": {},
   "outputs": [],
   "source": [
    "from sklearn.preprocessing import LabelEncoder\n",
    "for column in df.select_dtypes(include=['object']).columns:\n",
    "    if df[column].nunique() <= 2:\n",
    "        le = LabelEncoder()\n",
    "        df[column] = le.fit_transform(df[column])\n",
    "    else:\n",
    "        df = pd.get_dummies(df, columns=[column], prefix=column, drop_first=True)"
   ]
  },
  {
   "cell_type": "code",
   "execution_count": 15,
   "id": "edb42cca-f0da-4716-92d5-4d102746d9c6",
   "metadata": {},
   "outputs": [
    {
     "name": "stdout",
     "output_type": "stream",
     "text": [
      "<class 'pandas.core.frame.DataFrame'>\n",
      "Index: 1251 entries, 0 to 1258\n",
      "Data columns (total 90 columns):\n",
      " #   Column                          Non-Null Count  Dtype\n",
      "---  ------                          --------------  -----\n",
      " 0   Age                             1251 non-null   int64\n",
      " 1   self_employed                   1251 non-null   int32\n",
      " 2   family_history                  1251 non-null   int32\n",
      " 3   treatment                       1251 non-null   int32\n",
      " 4   remote_work                     1251 non-null   int32\n",
      " 5   tech_company                    1251 non-null   int32\n",
      " 6   obs_consequence                 1251 non-null   int32\n",
      " 7   Gender_Male                     1251 non-null   bool \n",
      " 8   Gender_Other                    1251 non-null   bool \n",
      " 9   Country_Austria                 1251 non-null   bool \n",
      " 10  Country_Belgium                 1251 non-null   bool \n",
      " 11  Country_Bosnia and Herzegovina  1251 non-null   bool \n",
      " 12  Country_Brazil                  1251 non-null   bool \n",
      " 13  Country_Bulgaria                1251 non-null   bool \n",
      " 14  Country_Canada                  1251 non-null   bool \n",
      " 15  Country_China                   1251 non-null   bool \n",
      " 16  Country_Colombia                1251 non-null   bool \n",
      " 17  Country_Costa Rica              1251 non-null   bool \n",
      " 18  Country_Croatia                 1251 non-null   bool \n",
      " 19  Country_Czech Republic          1251 non-null   bool \n",
      " 20  Country_Denmark                 1251 non-null   bool \n",
      " 21  Country_Finland                 1251 non-null   bool \n",
      " 22  Country_France                  1251 non-null   bool \n",
      " 23  Country_Georgia                 1251 non-null   bool \n",
      " 24  Country_Germany                 1251 non-null   bool \n",
      " 25  Country_Greece                  1251 non-null   bool \n",
      " 26  Country_Hungary                 1251 non-null   bool \n",
      " 27  Country_India                   1251 non-null   bool \n",
      " 28  Country_Ireland                 1251 non-null   bool \n",
      " 29  Country_Israel                  1251 non-null   bool \n",
      " 30  Country_Italy                   1251 non-null   bool \n",
      " 31  Country_Japan                   1251 non-null   bool \n",
      " 32  Country_Latvia                  1251 non-null   bool \n",
      " 33  Country_Mexico                  1251 non-null   bool \n",
      " 34  Country_Moldova                 1251 non-null   bool \n",
      " 35  Country_Netherlands             1251 non-null   bool \n",
      " 36  Country_New Zealand             1251 non-null   bool \n",
      " 37  Country_Nigeria                 1251 non-null   bool \n",
      " 38  Country_Norway                  1251 non-null   bool \n",
      " 39  Country_Philippines             1251 non-null   bool \n",
      " 40  Country_Poland                  1251 non-null   bool \n",
      " 41  Country_Portugal                1251 non-null   bool \n",
      " 42  Country_Romania                 1251 non-null   bool \n",
      " 43  Country_Russia                  1251 non-null   bool \n",
      " 44  Country_Singapore               1251 non-null   bool \n",
      " 45  Country_Slovenia                1251 non-null   bool \n",
      " 46  Country_South Africa            1251 non-null   bool \n",
      " 47  Country_Spain                   1251 non-null   bool \n",
      " 48  Country_Sweden                  1251 non-null   bool \n",
      " 49  Country_Switzerland             1251 non-null   bool \n",
      " 50  Country_Thailand                1251 non-null   bool \n",
      " 51  Country_United Kingdom          1251 non-null   bool \n",
      " 52  Country_United States           1251 non-null   bool \n",
      " 53  Country_Uruguay                 1251 non-null   bool \n",
      " 54  work_interfere_Often            1251 non-null   bool \n",
      " 55  work_interfere_Rarely           1251 non-null   bool \n",
      " 56  work_interfere_Sometimes        1251 non-null   bool \n",
      " 57  no_employees_100-500            1251 non-null   bool \n",
      " 58  no_employees_26-100             1251 non-null   bool \n",
      " 59  no_employees_500-1000           1251 non-null   bool \n",
      " 60  no_employees_6-25               1251 non-null   bool \n",
      " 61  no_employees_More than 1000     1251 non-null   bool \n",
      " 62  benefits_No                     1251 non-null   bool \n",
      " 63  benefits_Yes                    1251 non-null   bool \n",
      " 64  care_options_Not sure           1251 non-null   bool \n",
      " 65  care_options_Yes                1251 non-null   bool \n",
      " 66  wellness_program_No             1251 non-null   bool \n",
      " 67  wellness_program_Yes            1251 non-null   bool \n",
      " 68  seek_help_No                    1251 non-null   bool \n",
      " 69  seek_help_Yes                   1251 non-null   bool \n",
      " 70  anonymity_No                    1251 non-null   bool \n",
      " 71  anonymity_Yes                   1251 non-null   bool \n",
      " 72  leave_Somewhat difficult        1251 non-null   bool \n",
      " 73  leave_Somewhat easy             1251 non-null   bool \n",
      " 74  leave_Very difficult            1251 non-null   bool \n",
      " 75  leave_Very easy                 1251 non-null   bool \n",
      " 76  mental_health_consequence_No    1251 non-null   bool \n",
      " 77  mental_health_consequence_Yes   1251 non-null   bool \n",
      " 78  phys_health_consequence_No      1251 non-null   bool \n",
      " 79  phys_health_consequence_Yes     1251 non-null   bool \n",
      " 80  coworkers_Some of them          1251 non-null   bool \n",
      " 81  coworkers_Yes                   1251 non-null   bool \n",
      " 82  supervisor_Some of them         1251 non-null   bool \n",
      " 83  supervisor_Yes                  1251 non-null   bool \n",
      " 84  mental_health_interview_No      1251 non-null   bool \n",
      " 85  mental_health_interview_Yes     1251 non-null   bool \n",
      " 86  phys_health_interview_No        1251 non-null   bool \n",
      " 87  phys_health_interview_Yes       1251 non-null   bool \n",
      " 88  mental_vs_physical_No           1251 non-null   bool \n",
      " 89  mental_vs_physical_Yes          1251 non-null   bool \n",
      "dtypes: bool(83), int32(6), int64(1)\n",
      "memory usage: 150.3 KB\n"
     ]
    }
   ],
   "source": [
    "df.info()"
   ]
  },
  {
   "cell_type": "code",
   "execution_count": 16,
   "id": "fb8a3851-ac33-444c-93a9-a48d8b8f120e",
   "metadata": {},
   "outputs": [
    {
     "data": {
      "text/html": [
       "<div>\n",
       "<style scoped>\n",
       "    .dataframe tbody tr th:only-of-type {\n",
       "        vertical-align: middle;\n",
       "    }\n",
       "\n",
       "    .dataframe tbody tr th {\n",
       "        vertical-align: top;\n",
       "    }\n",
       "\n",
       "    .dataframe thead th {\n",
       "        text-align: right;\n",
       "    }\n",
       "</style>\n",
       "<table border=\"1\" class=\"dataframe\">\n",
       "  <thead>\n",
       "    <tr style=\"text-align: right;\">\n",
       "      <th></th>\n",
       "      <th>feature</th>\n",
       "      <th>importance</th>\n",
       "    </tr>\n",
       "  </thead>\n",
       "  <tbody>\n",
       "    <tr>\n",
       "      <th>2</th>\n",
       "      <td>family_history</td>\n",
       "      <td>0.096272</td>\n",
       "    </tr>\n",
       "    <tr>\n",
       "      <th>0</th>\n",
       "      <td>Age</td>\n",
       "      <td>0.090165</td>\n",
       "    </tr>\n",
       "    <tr>\n",
       "      <th>64</th>\n",
       "      <td>care_options_Yes</td>\n",
       "      <td>0.043867</td>\n",
       "    </tr>\n",
       "    <tr>\n",
       "      <th>53</th>\n",
       "      <td>work_interfere_Often</td>\n",
       "      <td>0.037662</td>\n",
       "    </tr>\n",
       "    <tr>\n",
       "      <th>6</th>\n",
       "      <td>Gender_Male</td>\n",
       "      <td>0.028126</td>\n",
       "    </tr>\n",
       "    <tr>\n",
       "      <th>55</th>\n",
       "      <td>work_interfere_Sometimes</td>\n",
       "      <td>0.024862</td>\n",
       "    </tr>\n",
       "    <tr>\n",
       "      <th>54</th>\n",
       "      <td>work_interfere_Rarely</td>\n",
       "      <td>0.024695</td>\n",
       "    </tr>\n",
       "    <tr>\n",
       "      <th>62</th>\n",
       "      <td>benefits_Yes</td>\n",
       "      <td>0.024552</td>\n",
       "    </tr>\n",
       "    <tr>\n",
       "      <th>79</th>\n",
       "      <td>coworkers_Some of them</td>\n",
       "      <td>0.023945</td>\n",
       "    </tr>\n",
       "    <tr>\n",
       "      <th>3</th>\n",
       "      <td>remote_work</td>\n",
       "      <td>0.022408</td>\n",
       "    </tr>\n",
       "  </tbody>\n",
       "</table>\n",
       "</div>"
      ],
      "text/plain": [
       "                     feature  importance\n",
       "2             family_history    0.096272\n",
       "0                        Age    0.090165\n",
       "64          care_options_Yes    0.043867\n",
       "53      work_interfere_Often    0.037662\n",
       "6                Gender_Male    0.028126\n",
       "55  work_interfere_Sometimes    0.024862\n",
       "54     work_interfere_Rarely    0.024695\n",
       "62              benefits_Yes    0.024552\n",
       "79    coworkers_Some of them    0.023945\n",
       "3                remote_work    0.022408"
      ]
     },
     "execution_count": 16,
     "metadata": {},
     "output_type": "execute_result"
    }
   ],
   "source": [
    "from sklearn.model_selection import train_test_split\n",
    "from sklearn.ensemble import RandomForestClassifier\n",
    "import matplotlib.pyplot as plt\n",
    "import seaborn as sns\n",
    "X = df.drop('treatment', axis=1)\n",
    "y = df['treatment']\n",
    "\n",
    "forest = RandomForestClassifier(n_estimators=100, random_state=42)\n",
    "forest.fit(X, y)\n",
    "\n",
    "importances = forest.feature_importances_\n",
    "feature_names = X.columns\n",
    "feature_importance_df = pd.DataFrame({'feature': feature_names, 'importance': importances})\n",
    "feature_importance_df = feature_importance_df.sort_values(by='importance', ascending=False)\n",
    "\n",
    "feature_importance_df.head(10)"
   ]
  },
  {
   "cell_type": "code",
   "execution_count": 17,
   "id": "6a379db3-a2e4-40fb-aac9-f7f4b149d5fd",
   "metadata": {},
   "outputs": [
    {
     "name": "stdout",
     "output_type": "stream",
     "text": [
      "\n",
      "Model training is complete. Predictions have been made on 251 samples.\n"
     ]
    }
   ],
   "source": [
    "from sklearn.model_selection import train_test_split\n",
    "from sklearn.metrics import accuracy_score\n",
    "\n",
    "X_train, X_test, y_train, y_test = train_test_split(X, y, test_size=0.2, random_state=42, stratify=y)\n",
    "\n",
    "model = RandomForestClassifier(n_estimators=100, random_state=42)\n",
    "\n",
    "model.fit(X_train, y_train)\n",
    "\n",
    "y_pred = model.predict(X_test)\n",
    "\n",
    "print(f\"\\nModel training is complete. Predictions have been made on {len(X_test)} samples.\")"
   ]
  },
  {
   "cell_type": "code",
   "execution_count": 18,
   "id": "bb6862d8-7039-40f9-be28-a8fd015d1e94",
   "metadata": {},
   "outputs": [
    {
     "name": "stdout",
     "output_type": "stream",
     "text": [
      "1. Accuracy: 0.7530\n",
      "2. Precision: 0.7559\n",
      "3. Recall: 0.7559\n",
      "4. F1-Score: 0.7559\n"
     ]
    }
   ],
   "source": [
    "from sklearn.metrics import accuracy_score, precision_score, recall_score, f1_score, classification_report\n",
    "\n",
    "accuracy = accuracy_score(y_test, y_pred)\n",
    "precision = precision_score(y_test, y_pred)\n",
    "recall = recall_score(y_test, y_pred)\n",
    "f1 = f1_score(y_test, y_pred)\n",
    "\n",
    "print(f\"1. Accuracy: {accuracy:.4f}\")\n",
    "print(f\"2. Precision: {precision:.4f}\")\n",
    "print(f\"3. Recall: {recall:.4f}\")\n",
    "print(f\"4. F1-Score: {f1:.4f}\")\n"
   ]
  },
  {
   "cell_type": "code",
   "execution_count": 19,
   "id": "a626b885-fa0b-41c9-9f77-97e0a11aa507",
   "metadata": {},
   "outputs": [],
   "source": [
    "import pandas as pd\n",
    "import numpy as np\n",
    "from sklearn.model_selection import train_test_split\n",
    "from sklearn.ensemble import RandomForestClassifier\n",
    "from sklearn.preprocessing import LabelEncoder\n",
    "from sklearn.metrics import confusion_matrix, roc_curve, auc, RocCurveDisplay\n",
    "import matplotlib.pyplot as plt\n",
    "import seaborn as sns"
   ]
  },
  {
   "cell_type": "code",
   "execution_count": 20,
   "id": "6c213291-690a-44b4-8aa2-7f9969cf09d2",
   "metadata": {
    "scrolled": true
   },
   "outputs": [
    {
     "data": {
      "image/png": "[encoded data removed]",
      "text/plain": [
       "<Figure size 800x600 with 2 Axes>"
      ]
     },
     "metadata": {},
     "output_type": "display_data"
    }
   ],
   "source": [
    "cm = confusion_matrix(y_test, y_pred)\n",
    "plt.figure(figsize=(8, 6))\n",
    "sns.heatmap(cm, annot=True, fmt='d', cmap='Blues', \n",
    "            xticklabels=['Predicted No Treatment', 'Predicted Treatment'], \n",
    "            yticklabels=['Actual No Treatment', 'Actual Treatment'])\n",
    "plt.title('Confusion Matrix')\n",
    "plt.ylabel('Actual Label')\n",
    "plt.xlabel('Predicted Label')\n",
    "plt.show()"
   ]
  },
  {
   "cell_type": "code",
   "execution_count": 21,
   "id": "e27cc2a7-ec95-4b63-b391-1611438a2046",
   "metadata": {},
   "outputs": [
    {
     "data": {
      "image/png": "[encoded data removed]",
      "text/plain": [
       "<Figure size 800x600 with 1 Axes>"
      ]
     },
     "metadata": {},
     "output_type": "display_data"
    }
   ],
   "source": [
    "y_pred_proba = model.predict_proba(X_test)[:, 1] \n",
    "fpr, tpr, thresholds = roc_curve(y_test, y_pred_proba)\n",
    "roc_auc = auc(fpr, tpr)\n",
    "\n",
    "plt.figure(figsize=(8, 6))\n",
    "plt.plot(fpr, tpr, color='darkorange', lw=2, label=f'ROC curve (area = {roc_auc:.2f})')\n",
    "plt.plot([0, 1], [0, 1], color='navy', lw=2, linestyle='--')\n",
    "plt.xlim([0.0, 1.0])\n",
    "plt.ylim([0.0, 1.05])\n",
    "plt.xlabel('False Positive Rate')\n",
    "plt.ylabel('True Positive Rate')\n",
    "plt.title('Receiver Operating Characteristic (ROC) Curve')\n",
    "plt.legend(loc=\"lower right\")\n",
    "plt.show()"
   ]
  },
  {
   "cell_type": "code",
   "execution_count": 22,
   "id": "e15e8916-6596-4f39-a230-9f9e41d64708",
   "metadata": {},
   "outputs": [
    {
     "data": {
      "image/png": "[encoded data removed]",
      "text/plain": [
       "<Figure size 800x600 with 1 Axes>"
      ]
     },
     "metadata": {},
     "output_type": "display_data"
    }
   ],
   "source": [
    "importances = model.feature_importances_\n",
    "feature_names = X.columns\n",
    "feature_importance_df = pd.DataFrame({'feature': feature_names, 'importance': importances})\n",
    "feature_importance_df = feature_importance_df.sort_values(by='importance', ascending=False)\n",
    "plt.figure(figsize=(8, 6))\n",
    "sns.barplot(x='importance', y='feature', data=feature_importance_df.head(6))\n",
    "plt.title('Top 6 Feature Importances')\n",
    "plt.show()"
   ]
  },
  {
   "cell_type": "code",
   "execution_count": null,
   "id": "044ef2e8-0eb2-4b83-91ef-9c64ebb421f0",
   "metadata": {},
   "outputs": [],
   "source": []
  }
 ],
 "metadata": {
  "kernelspec": {
   "display_name": "Python [conda env:base] *",
   "language": "python",
   "name": "conda-base-py"
  },
  "language_info": {
   "codemirror_mode": {
    "name": "ipython",
    "version": 3
   },
   "file_extension": ".py",
   "mimetype": "text/x-python",
   "name": "python",
   "nbconvert_exporter": "python",
   "pygments_lexer": "ipython3",
   "version": "3.12.7"
  }
 },
 "nbformat": 4,
 "nbformat_minor": 5
}
